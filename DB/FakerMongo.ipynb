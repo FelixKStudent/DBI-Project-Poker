{
 "cells": [
  {
   "cell_type": "code",
   "execution_count": 12,
   "metadata": {},
   "outputs": [
    {
     "name": "stdout",
     "output_type": "stream",
     "text": [
      "The autoreload extension is already loaded. To reload it, use:\n",
      "  %reload_ext autoreload\n"
     ]
    }
   ],
   "source": [
    "%load_ext autoreload\n",
    "%autoreload 2"
   ]
  },
  {
   "cell_type": "code",
   "execution_count": 5,
   "metadata": {},
   "outputs": [],
   "source": [
    "from model import *\n",
    "import pymongo\n",
    "\n",
    "connection_string = \"<redacted>\"\n",
    "\n",
    "format_data = {\"name\": \"abc\"}\n",
    "format_instance = Format(**format_data)\n",
    "\n",
    "site_data = {\"name\": \"Abc\"}\n",
    "site_instance = Site(**site_data)\n",
    "\n",
    "tournament_data = {\n",
    "    \"name\": \"abc\",\n",
    "    \"buyin\": 1,\n",
    "    \"guarantee\": 2,\n",
    "    \"site\": site_instance,\n",
    "    \"formats\": [format_instance],\n",
    "}\n",
    "tournament_instance = Tournament(**tournament_data)\n",
    "\n",
    "sessionStats_data = {\"winnings\": 10, \"position\": 10, \"tournamnets\": tournament_instance}\n",
    "sessionStats_instance = SessionStats(**sessionStats_data)\n",
    "\n",
    "session_data = {\"date\": datetime.now(), \"length\": 4, \"stats\": sessionStats_instance}\n",
    "session = Session(**session_data)\n",
    "\n",
    "myclient = pymongo.MongoClient(connection_string)\n",
    "mydb = myclient[\"pokerDb\"]\n",
    "mycol = mydb[\"sessions\"]\n",
    "\n",
    "x = mycol.insert_one(session)\n"
   ]
  },
  {
   "cell_type": "code",
   "execution_count": 37,
   "metadata": {},
   "outputs": [
    {
     "name": "stdout",
     "output_type": "stream",
     "text": [
      "Mongo faker done.\n",
      "MongoDB data deletion completed\n",
      "MongoDB data insertion completed.\n"
     ]
    }
   ],
   "source": [
    "from model import *\n",
    "import pymongo\n",
    "from MongoUtils import *\n",
    "\n",
    "faker = DataFaker(5, 10, 10000, 100, 2, 5, 10)\n",
    "\n",
    "mongoFaker = MongoUtils(faker)\n",
    "\n",
    "mongoFaker.clean_database()\n",
    "\n",
    "mongoFaker.insert_documents()"
   ]
  },
  {
   "cell_type": "code",
   "execution_count": null,
   "metadata": {},
   "outputs": [],
   "source": []
  }
 ],
 "metadata": {
  "kernelspec": {
   "display_name": "Python 3",
   "language": "python",
   "name": "python3"
  },
  "language_info": {
   "codemirror_mode": {
    "name": "ipython",
    "version": 3
   },
   "file_extension": ".py",
   "mimetype": "text/x-python",
   "name": "python",
   "nbconvert_exporter": "python",
   "pygments_lexer": "ipython3",
   "version": "3.9.6"
  }
 },
 "nbformat": 4,
 "nbformat_minor": 1
}