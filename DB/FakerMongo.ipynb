{
 "cells": [
  {
   "cell_type": "code",
   "execution_count": 6,
   "metadata": {},
   "outputs": [],
   "source": [
    "from model import *\n",
    "import pymongo\n",
    "\n",
    "format_data = {\"name\": \"abc\"}\n",
    "format_instance = Format(**format_data)\n",
    "\n",
    "site_data = {\"name\": \"Abc\"}\n",
    "site_instance = Site(**site_data)\n",
    "\n",
    "tournament_data = {\n",
    "    \"name\": \"abc\",\n",
    "    \"buyin\": 1,\n",
    "    \"guarantee\": 2,\n",
    "    \"site\": site_instance,\n",
    "    \"formats\": [format_instance],\n",
    "}\n",
    "tournament_instance = Tournament(**tournament_data)\n",
    "\n",
    "sessionStats_data = {\"winnings\": 10, \"position\": 10, \"tournamnets\": tournament_instance}\n",
    "sessionStats_instance = SessionStats(**sessionStats_data)\n",
    "\n",
    "session_data = {\"date\": datetime.now(), \"length\": 4, \"stats\": sessionStats_instance}\n",
    "session = Session(**session_data)\n",
    "\n",
    "myclient = pymongo.MongoClient(\"mongodb://localhost:27017/\")\n",
    "mydb = myclient[\"pokerDb\"]\n",
    "mycol = mydb[\"sessions\"]\n",
    "\n",
    "x = mycol.insert_one(session)\n"
   ]
  },
  {
   "cell_type": "code",
   "execution_count": null,
   "metadata": {},
   "outputs": [],
   "source": []
  }
 ],
 "metadata": {
  "kernelspec": {
   "display_name": "Python 3",
   "language": "python",
   "name": "python3"
  },
  "language_info": {
   "codemirror_mode": {
    "name": "ipython",
    "version": 3
   },
   "file_extension": ".py",
   "mimetype": "text/x-python",
   "name": "python",
   "nbconvert_exporter": "python",
   "pygments_lexer": "ipython3",
   "version": "3.8.8"
  }
 },
 "nbformat": 4,
 "nbformat_minor": 1
}