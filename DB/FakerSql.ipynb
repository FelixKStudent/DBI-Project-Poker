{
 "cells": [
  {
   "cell_type": "code",
   "execution_count": 3,
   "id": "cd6d4064-32c2-4268-99a3-9ea1719768cd",
   "metadata": {},
   "outputs": [],
   "source": [
    "import psycopg2\n",
    "from faker import Faker\n",
    "import random\n",
    "\n",
    "conn = psycopg2.connect(\n",
    "    host=\"localhost\",\n",
    "    database=\"postgres\",\n",
    "    user=\"postgres\",\n",
    "    password=\"obama\")\n",
    "\n"
   ]
  },
  {
   "cell_type": "code",
   "execution_count": 4,
   "id": "a4df6211",
   "metadata": {
    "jupyter": {
     "outputs_hidden": false
    },
    "pycharm": {
     "name": "#%%\n"
    }
   },
   "outputs": [],
   "source": [
    "from datetime import datetime, timedelta\n",
    "\n",
    "def generate_unique_dates(end_date, num_dates):\n",
    "    date_set = set()\n",
    "    dates = []\n",
    "    while len(dates) < num_dates:\n",
    "        current_date = fake.date_between_dates(datetime.now().date()-timedelta(days=30*365), end_date)\n",
    "        if current_date not in date_set:\n",
    "            date_set.add(current_date)\n",
    "            dates.append(current_date)\n",
    "    return dates\n",
    "\n",
    "def generate_random_number_of_items(items, max_count):\n",
    "    count = random.randint(1, max_count)\n",
    "    return random.sample(items, min(count, len(items)))"
   ]
  },
  {
   "cell_type": "code",
   "execution_count": 5,
   "id": "4e07ccd0-b8df-460a-8f4a-6ab93a2d31b1",
   "metadata": {},
   "outputs": [
    {
     "name": "stdout",
     "output_type": "stream",
     "text": [
      "Done\n"
     ]
    }
   ],
   "source": [
    "fake = Faker()\n",
    "\n",
    "numSites = 5\n",
    "numFormats = 10\n",
    "numSessions = 10000\n",
    "numTournaments = 100\n",
    "formatsPerTournament = 2\n",
    "tournamentsPerSession = 5\n",
    "numTransactions = 10\n",
    "\n",
    "si_sites_data = [(fake.word(),) for _ in range(numSites)]\n",
    "f_formats_data = [(fake.word(),) for _ in range(numFormats)]\n",
    "\n",
    "current_date = datetime.now().date()\n",
    "s_sessions_data = [(date, random.randint(1, 14)) for date in generate_unique_dates(current_date, numSessions)]\n",
    "\n",
    "t_tournaments_data = [(fake.word(), random.randint(1, 100), random.randint(0, 10000), random.randint(1, numSites)) for _ in range(numTournaments)]\n",
    "\n",
    "formats_shuffled = random.sample(range(1, numFormats + 1), numFormats)\n",
    "\n",
    "tournament_formats_mapping = {x+1: generate_random_number_of_items(formats_shuffled, formatsPerTournament) for x in range(numTournaments)}\n",
    "\n",
    "tournaments_shuffled = random.sample(range(1, numTournaments + 1), numTournaments)\n",
    "session_tournaments_mapping = {x+1: generate_random_number_of_items(tournaments_shuffled, tournamentsPerSession) for x in range(numSessions)}\n",
    "\n",
    "tr_transactions_data = [(random.randint(1, numSites), random.randint(-1000, 1000), date) for date in generate_unique_dates(current_date, numTransactions)]\n",
    "\n",
    "cur = conn.cursor()\n",
    "\n",
    "for i in si_sites_data:\n",
    "    sql = \"\"\"INSERT INTO si_sites(si_name) VALUES(%s)\"\"\"\n",
    "    cur.execute(sql, i)\n",
    "conn.commit()\n",
    "\n",
    "for i in f_formats_data:\n",
    "    sql = \"\"\"INSERT INTO f_formats(f_name)\n",
    "             VALUES(%s);\"\"\"\n",
    "    cur.execute(sql, i)\n",
    "conn.commit()\n",
    "\n",
    "for i in s_sessions_data:\n",
    "    sql = \"\"\"INSERT INTO s_sessions(s_date, s_length)\n",
    "             VALUES(%s, %s);\"\"\"\n",
    "    cur.execute(sql, i)\n",
    "conn.commit()\n",
    "\n",
    "for i in t_tournaments_data:\n",
    "    sql = \"\"\"INSERT INTO t_tournaments(t_name, t_buyIn, t_guarantee, t_si_site)\n",
    "             VALUES(%s, %s, %s, %s);\"\"\"\n",
    "    cur.execute(sql, i)\n",
    "conn.commit()\n",
    "\n",
    "for tournament, formats in tournament_formats_mapping.items():\n",
    "    for f_id in formats:\n",
    "        sql = \"\"\"INSERT INTO hf_hasFormat(hf_f_id, hf_t_id)\n",
    "                 VALUES(%s, %s);\"\"\"\n",
    "        cur.execute(sql, (f_id, tournament))\n",
    "conn.commit()\n",
    "\n",
    "for session, tournaments in session_tournaments_mapping.items():\n",
    "    for t_id in tournaments:\n",
    "        sql = \"\"\"INSERT INTO ht_hasTournament(ht_s_id, ht_t_id, ht_winnings, ht_position)\n",
    "                 VALUES(%s, %s, %s, %s);\"\"\"\n",
    "        cur.execute(sql, (session, t_id, random.randint(0, 10000), random.randint(1, 500)))\n",
    "conn.commit()\n",
    "\n",
    "for i in tr_transactions_data:\n",
    "    sql = \"\"\"INSERT INTO tr_transactions(tr_si_id, tr_amount, tr_date)\n",
    "             VALUES(%s, %s, %s);\"\"\"\n",
    "    cur.execute(sql, i)\n",
    "conn.commit()\n",
    "\n",
    "print(\"Done\")"
   ]
  },
  {
   "cell_type": "code",
   "execution_count": null,
   "id": "1c19b07f-5426-4f9c-8d53-a72209e2d4c5",
   "metadata": {},
   "outputs": [],
   "source": []
  },
  {
   "cell_type": "code",
   "execution_count": null,
   "id": "78e44486-a63c-4d96-89c7-01a9d7259876",
   "metadata": {},
   "outputs": [],
   "source": []
  }
 ],
 "metadata": {
  "kernelspec": {
   "display_name": "Python 3",
   "language": "python",
   "name": "python3"
  },
  "language_info": {
   "codemirror_mode": {
    "name": "ipython",
    "version": 3
   },
   "file_extension": ".py",
   "mimetype": "text/x-python",
   "name": "python",
   "nbconvert_exporter": "python",
   "pygments_lexer": "ipython3",
   "version": "3.8.8"
  }
 },
 "nbformat": 4,
 "nbformat_minor": 5
}
