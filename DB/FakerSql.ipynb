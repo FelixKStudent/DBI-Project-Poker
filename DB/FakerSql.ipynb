{
 "cells": [
  {
   "cell_type": "code",
   "execution_count": 11,
   "id": "cd6d4064-32c2-4268-99a3-9ea1719768cd",
   "metadata": {},
   "outputs": [],
   "source": [
    "import psycopg2\n",
    "\n",
    "\n",
    "conn = psycopg2.connect(\n",
    "    host=\"localhost\",\n",
    "    database=\"postgres\",\n",
    "    user=\"postgres\",\n",
    "    password=\"obama\")\n",
    "\n"
   ]
  },
  {
   "cell_type": "code",
   "execution_count": 12,
   "id": "a4df6211",
   "metadata": {
    "jupyter": {
     "outputs_hidden": false
    },
    "pycharm": {
     "name": "#%%\n"
    }
   },
   "outputs": [],
   "source": [
    "cur = conn.cursor()\n",
    "\n",
    "# Drop all tables if they exist\n",
    "cur.execute(\"SELECT table_name FROM information_schema.tables WHERE table_schema = 'public';\")\n",
    "tables = cur.fetchall()\n",
    "for table in tables:\n",
    "    cur.execute(f\"DROP TABLE IF EXISTS {table[0]} CASCADE;\")\n",
    "conn.commit()\n",
    "\n",
    "with open('dump.sql', 'r') as sql_file:\n",
    "    sql_script = sql_file.read()\n",
    "\n",
    "# Execute the SQL script to create tables\n",
    "cur.execute(sql_script)\n",
    "\n",
    "# Commit the changes to apply the table creations\n",
    "conn.commit()"
   ]
  },
  {
   "cell_type": "code",
   "execution_count": 13,
   "id": "4e07ccd0-b8df-460a-8f4a-6ab93a2d31b1",
   "metadata": {},
   "outputs": [
    {
     "name": "stdout",
     "output_type": "stream",
     "text": [
      "Done\n"
     ]
    }
   ],
   "source": [
    "from DataFaker import DataFaker\n",
    "import random\n",
    "\n",
    "cur = conn.cursor()\n",
    "\n",
    "faker = DataFaker()\n",
    "\n",
    "for i in faker.si_sites_data:\n",
    "    sql = \"\"\"INSERT INTO si_sites(si_name) VALUES(%s)\"\"\"\n",
    "    cur.execute(sql, i)\n",
    "conn.commit()\n",
    "\n",
    "for i in faker.f_formats_data:\n",
    "    sql = \"\"\"INSERT INTO f_formats(f_name)\n",
    "             VALUES(%s);\"\"\"\n",
    "    cur.execute(sql, i)\n",
    "conn.commit()\n",
    "\n",
    "for i in faker.s_sessions_data:\n",
    "    sql = \"\"\"INSERT INTO s_sessions(s_date, s_length)\n",
    "             VALUES(%s, %s);\"\"\"\n",
    "    cur.execute(sql, i)\n",
    "conn.commit()\n",
    "\n",
    "for i in faker.t_tournaments_data:\n",
    "    sql = \"\"\"INSERT INTO t_tournaments(t_name, t_buyIn, t_guarantee, t_si_site)\n",
    "             VALUES(%s, %s, %s, %s);\"\"\"\n",
    "    cur.execute(sql, i)\n",
    "conn.commit()\n",
    "\n",
    "for tournament, formats in faker.tournament_formats_mapping.items():\n",
    "    for f_id in formats:\n",
    "        sql = \"\"\"INSERT INTO hf_hasFormat(hf_f_id, hf_t_id)\n",
    "                 VALUES(%s, %s);\"\"\"\n",
    "        cur.execute(sql, (f_id, tournament))\n",
    "conn.commit()\n",
    "\n",
    "for session, tournaments in faker.session_tournaments_mapping.items():\n",
    "    for t_id in tournaments:\n",
    "        sql = \"\"\"INSERT INTO ht_hasTournament(ht_s_id, ht_t_id, ht_winnings, ht_position)\n",
    "                 VALUES(%s, %s, %s, %s);\"\"\"\n",
    "        cur.execute(sql, (session, t_id, random.randint(0, 10000), random.randint(1, 500)))\n",
    "conn.commit()\n",
    "\n",
    "for i in faker.tr_transactions_data:\n",
    "    sql = \"\"\"INSERT INTO tr_transactions(tr_si_id, tr_amount, tr_date)\n",
    "             VALUES(%s, %s, %s);\"\"\"\n",
    "    cur.execute(sql, i)\n",
    "conn.commit()\n",
    "\n",
    "print(\"Done\")"
   ]
  },
  {
   "cell_type": "code",
   "execution_count": null,
   "id": "1c19b07f-5426-4f9c-8d53-a72209e2d4c5",
   "metadata": {},
   "outputs": [],
   "source": []
  },
  {
   "cell_type": "code",
   "execution_count": null,
   "id": "78e44486-a63c-4d96-89c7-01a9d7259876",
   "metadata": {},
   "outputs": [],
   "source": []
  }
 ],
 "metadata": {
  "kernelspec": {
   "display_name": "Python 3",
   "language": "python",
   "name": "python3"
  },
  "language_info": {
   "codemirror_mode": {
    "name": "ipython",
    "version": 3
   },
   "file_extension": ".py",
   "mimetype": "text/x-python",
   "name": "python",
   "nbconvert_exporter": "python",
   "pygments_lexer": "ipython3",
   "version": "3.8.8"
  }
 },
 "nbformat": 4,
 "nbformat_minor": 5
}