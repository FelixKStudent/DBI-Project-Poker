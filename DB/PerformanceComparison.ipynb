{
 "cells": [
  {
   "cell_type": "code",
   "execution_count": 5,
   "metadata": {},
   "outputs": [
    {
     "name": "stdout",
     "output_type": "stream",
     "text": [
      "The autoreload extension is already loaded. To reload it, use:\n",
      "  %reload_ext autoreload\n"
     ]
    }
   ],
   "source": [
    "%load_ext autoreload\n",
    "%autoreload 2"
   ]
  },
  {
   "cell_type": "code",
   "execution_count": 12,
   "metadata": {},
   "outputs": [
    {
     "name": "stdout",
     "output_type": "stream",
     "text": [
      "Running test: Delete All Performance Comparison: MongoDB vs PostgreSQL\n",
      "Running for 10\n",
      "Running for 100\n",
      "Running for 1000\n",
      "Running for 10000\n"
     ]
    },
    {
     "data": {
      "image/png": "[encoded data removed]",
      "text/plain": [
       "<Figure size 432x288 with 1 Axes>"
      ]
     },
     "metadata": {
      "needs_background": "light"
     },
     "output_type": "display_data"
    }
   ],
   "source": [
    "from MongoUtils import *\n",
    "from SqlUtils import *\n",
    "import matplotlib.pyplot as plt\n",
    "import numpy as np\n",
    "import time\n",
    "\n",
    "def run_tests(database, faker, num_tests, test_function_mongo, test_function_postgres, insertData):\n",
    "    total_times = []\n",
    "\n",
    "    for _ in range(num_tests):\n",
    "        start_time = 0\n",
    "\n",
    "        if database == 'mongo':\n",
    "            mongoFaker = MongoUtils(faker)\n",
    "            mongoFaker.clean_database()\n",
    "            if insertData:\n",
    "                mongoFaker.insert_documents()\n",
    "            start_time = time.time()\n",
    "            test_function_mongo(mongoFaker)\n",
    "        elif database == 'postgres':\n",
    "            sqlUtils = SqlUtils(faker)\n",
    "            sqlUtils.clean_database()\n",
    "            if insertData:\n",
    "                sqlUtils.insert_faker_data()\n",
    "            start_time = time.time()\n",
    "            test_function_postgres(sqlUtils)\n",
    "        else:\n",
    "            raise ValueError(\"Invalid database type\")\n",
    "        elapsed_time = time.time() - start_time\n",
    "        total_times.append(elapsed_time)\n",
    "\n",
    "    return total_times\n",
    "\n",
    "def plot_results(mongo_results, postgres_results, title):\n",
    "    fig, ax = plt.subplots()\n",
    "    ax.boxplot(mongo_results, positions=np.arange(len(num_sessions_list))*2-0.4, widths=0.4, patch_artist=True, boxprops=dict(facecolor='lightblue'))\n",
    "    ax.boxplot(postgres_results, positions=np.arange(len(num_sessions_list))*2+0.4, widths=0.4, patch_artist=True, boxprops=dict(facecolor='lightgreen'))\n",
    "\n",
    "    ax.set_xticks(np.arange(len(num_sessions_list))*2)\n",
    "    ax.set_xticklabels([str(num) for num in num_sessions_list])\n",
    "    ax.set_xlabel('Number of Sessions Inserted')\n",
    "    ax.set_ylabel('Execution Time (seconds), logarithmic scale')\n",
    "    ax.set_title(title)\n",
    "    plt.yscale('log')\n",
    "\n",
    "    # Add legend\n",
    "    legend_labels = ['Left: MongoDB', 'Right: PostgreSQL']\n",
    "    legend_colors = ['lightblue', 'lightgreen']\n",
    "    legend_patches = [plt.Rectangle((0, 0), 1, 1, color=color) for color in legend_colors]\n",
    "    ax.legend(legend_patches, legend_labels)\n",
    "\n",
    "    plt.show()\n",
    "\n",
    "def read_with_filter_test_mongo(mongoFaker):\n",
    "    x = mongoFaker.find_by_session_length(1)\n",
    "    \n",
    "def read_with_filter_test_postgres(sqlUtils):\n",
    "    x = sqlUtils.find_all_by_session_length(1)\n",
    "\n",
    "def write_test_mongo(mongoFaker):\n",
    "    mongoFaker.insert_documents()\n",
    "    \n",
    "def write_test_postgres(sqlUtils):\n",
    "    sqlUtils.insert_faker_data()\n",
    "\n",
    "def read_all_mongo(mongoFaker):\n",
    "    return mongoFaker.find_all()\n",
    "\n",
    "def read_all_postgres(sqlUtils):\n",
    "    return sqlUtils.find_all()\n",
    "\n",
    "def read_with_filter_projection_mongo(mongoFaker):\n",
    "    return mongoFaker.find_by_session_length_projection(1)\n",
    "\n",
    "def read_with_filter_projection_postgres(sqlUtils):\n",
    "    return sqlUtils.find_by_session_length_projection(1)\n",
    "\n",
    "def read_with_filter_projection_sort_mongo(mongoFaker):\n",
    "    return mongoFaker.find_by_session_length_projection_sort(1)\n",
    "\n",
    "def read_with_filter_projection_sort_postgres(sqlUtils):\n",
    "    return sqlUtils.find_by_session_length_projection_sort(1)\n",
    "\n",
    "def update_all_mongo(mongoFaker):\n",
    "    mongoFaker.update_session_length()\n",
    "\n",
    "def update_all_postgres(sqlUtils):\n",
    "    sqlUtils.update_session_length()\n",
    "\n",
    "def update_where_mongo(mongoFaker):\n",
    "    mongoFaker.update_session_length_by_length(1)\n",
    "\n",
    "def update_where_postgres(sqlUtils):\n",
    "    sqlUtils.update_session_length_by_length(1)\n",
    "\n",
    "def delete_all_mongo(mongoFaker):\n",
    "    mongoFaker.delete_all()\n",
    "\n",
    "def delete_all_postgres(sqlUtils):\n",
    "    sqlUtils.delete_all()\n",
    "\n",
    "tests = [#(write_test_mongo, write_test_postgres, \"Write Performance Comparison: MongoDB vs PostgreSQL\", False),\n",
    "         #(read_all_mongo, read_all_postgres, \"Read All Performance Comparison: MongoDB vs PostgreSQL\", True),\n",
    "         #(read_with_filter_test_mongo, read_with_filter_test_postgres, 'Read With Filter Performance Comparison: MongoDB vs PostgreSQL', True),\n",
    "         #(read_with_filter_projection_mongo, read_with_filter_projection_postgres, \"Read With Filter & Projection Performance Comparison: MongoDB vs PostgreSQL\", True),\n",
    "         #(read_with_filter_projection_sort_mongo, read_with_filter_projection_sort_postgres, \"Read With Filter, Projection & Sort Performance Comparison: MongoDB vs PostgreSQL\", True),\n",
    "         #(update_all_mongo, update_all_postgres, \"Update All Performance Comparison: MongoDB vs PostgreSQL\", True),\n",
    "         #(update_where_mongo, update_where_postgres, \"Update with Filter Performance Comparison: MongoDB vs PostgreSQL\", True),\n",
    "         (delete_all_mongo, delete_all_postgres, \"Delete All Performance Comparison: MongoDB vs PostgreSQL\", True)]\n",
    "\n",
    "num_sessions_list = [10, 100, 1000, 10000]\n",
    "num_tests = 10\n",
    "\n",
    "for test in tests:\n",
    "    print(\"Running test: \" + test[2])\n",
    "    mongo_results = []\n",
    "    postgres_results = []\n",
    "    for num_sessions in num_sessions_list:\n",
    "        print(\"Running for \" + str(num_sessions))\n",
    "        faker = DataFaker(5, 10, num_sessions, 100, 2, 5, 10)\n",
    "\n",
    "        times_mongo = run_tests('mongo', faker, num_tests, test[0], test[1], test[3])\n",
    "        mongo_results.append(times_mongo)\n",
    "        times_postgres = run_tests('postgres', faker, num_tests, test[0], test[1], test[3])\n",
    "        postgres_results.append(times_postgres)\n",
    "\n",
    "    # Plot results\n",
    "    plot_results(mongo_results, postgres_results, test[2])"
   ]
  },
  {
   "cell_type": "code",
   "execution_count": null,
   "metadata": {},
   "outputs": [],
   "source": []
  }
 ],
 "metadata": {
  "kernelspec": {
   "display_name": "Python 3",
   "language": "python",
   "name": "python3"
  },
  "language_info": {
   "codemirror_mode": {
    "name": "ipython",
    "version": 3
   },
   "file_extension": ".py",
   "mimetype": "text/x-python",
   "name": "python",
   "nbconvert_exporter": "python",
   "pygments_lexer": "ipython3",
   "version": "3.8.8"
  }
 },
 "nbformat": 4,
 "nbformat_minor": 1
}